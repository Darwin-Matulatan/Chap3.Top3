{
 "cells": [
  {
   "cell_type": "code",
   "execution_count": 2,
   "id": "172bafbe",
   "metadata": {},
   "outputs": [],
   "source": [
    "import pandas as pd\n",
    "import re\n",
    "import gradio as gr"
   ]
  },
  {
   "cell_type": "code",
   "execution_count": null,
   "id": "d76e823f",
   "metadata": {},
   "outputs": [],
   "source": [
    "def data_processing(file_obj):\n",
    "    \n",
    "    # Import file csv ke pandas\n",
    "    df=pd.read_csv(file_obj.name)\n",
    "    \n",
    "    # Ambil teks yang akan diproses dalam format list\n",
    "    texts=df.text.to_list()\n",
    "    \n",
    "    # Lakukan cleansing pada teks\n",
    "    cleaned_text=[]\n",
    "    for text in texts:\n",
    "        cleaned_text.append(re.sub(r'[^a-zA-Z0-9]',' ',text))\n",
    "        \n",
    "    return cleaned_text"
   ]
  },
  {
   "cell_type": "code",
   "execution_count": null,
   "id": "b8e2929c",
   "metadata": {},
   "outputs": [],
   "source": [
    "gradio_ui=gr.Interface(data_processing,\n",
    "                          title=\"Data Processing and Modelling\",\n",
    "                          description=\"Aplikasi Web Data Processing dan Modelling\",\n",
    "                          inputs=\"file\",\n",
    "                          outputs=\"json\")\n",
    "\n",
    "gradio_ui.launch()"
   ]
  },
  {
   "cell_type": "code",
   "execution_count": 3,
   "id": "cfe65cd7",
   "metadata": {},
   "outputs": [],
   "source": [
    "def data_processing(text):\n",
    "    return re.sub(r'[^a-zA-Z0-9]',' ',text)"
   ]
  },
  {
   "cell_type": "code",
   "execution_count": 5,
   "id": "0ee8d4e6",
   "metadata": {},
   "outputs": [
    {
     "name": "stdout",
     "output_type": "stream",
     "text": [
      "Running on local URL:  http://127.0.0.1:7860\n",
      "\n",
      "To create a public link, set `share=True` in `launch()`.\n"
     ]
    },
    {
     "data": {
      "text/html": [
       "<div><iframe src=\"http://127.0.0.1:7860/\" width=\"100%\" height=\"500\" allow=\"autoplay; camera; microphone; clipboard-read; clipboard-write;\" frameborder=\"0\" allowfullscreen></iframe></div>"
      ],
      "text/plain": [
       "<IPython.core.display.HTML object>"
      ]
     },
     "metadata": {},
     "output_type": "display_data"
    },
    {
     "data": {
      "text/plain": []
     },
     "execution_count": 5,
     "metadata": {},
     "output_type": "execute_result"
    }
   ],
   "source": [
    "gradio_ui=gr.Interface(data_processing, \n",
    "                       title=\"Data Processing and Modelling\",\n",
    "                       description=\"Aplikasi Web Data Processing dan Modelling\",\n",
    "                       inputs=gr.Textbox(lines=10,label=\"Input text di sini\"),\n",
    "                       outputs=gr.Textbox(lines=10,label=\"Hasil output text\")\n",
    "                      )\n",
    "\n",
    "gradio_ui.launch()                        "
   ]
  },
  {
   "cell_type": "code",
   "execution_count": 41,
   "id": "bb8ab3a4",
   "metadata": {},
   "outputs": [
    {
     "name": "stdout",
     "output_type": "stream",
     "text": [
      "Running on local URL:  http://127.0.0.1:7888\n",
      "\n",
      "Thanks for being a Gradio user! If you have questions or feedback, please join our Discord server and chat with us: https://discord.gg/feTf9x3ZSB\n",
      "\n",
      "To create a public link, set `share=True` in `launch()`.\n"
     ]
    },
    {
     "data": {
      "text/html": [
       "<div><iframe src=\"http://127.0.0.1:7888/\" width=\"100%\" height=\"500\" allow=\"autoplay; camera; microphone; clipboard-read; clipboard-write;\" frameborder=\"0\" allowfullscreen></iframe></div>"
      ],
      "text/plain": [
       "<IPython.core.display.HTML object>"
      ]
     },
     "metadata": {},
     "output_type": "display_data"
    },
    {
     "data": {
      "text/plain": []
     },
     "execution_count": 41,
     "metadata": {},
     "output_type": "execute_result"
    }
   ],
   "source": [
    "def greet(name, is_morning, temperature):\n",
    "    salutation = \"Good morning\" if is_morning else \"Good evening\"\n",
    "    greeting = f\"{salutation} {name}. It is {temperature} degrees Celcius today\"\n",
    "    \n",
    "    return greeting\n",
    "\n",
    "demo = gr.Interface(\n",
    "    greet,\n",
    "    inputs = [\"text\", \"checkbox\", gr.Slider(0,100)],\n",
    "    outputs = [\"text\"],\n",
    "    )\n",
    "\n",
    "demo.launch()"
   ]
  },
  {
   "cell_type": "code",
   "execution_count": 36,
   "id": "078dc32b",
   "metadata": {},
   "outputs": [],
   "source": [
    "import random\n",
    "import gradio as gr"
   ]
  },
  {
   "cell_type": "code",
   "execution_count": 43,
   "id": "995422be",
   "metadata": {},
   "outputs": [
    {
     "name": "stdout",
     "output_type": "stream",
     "text": [
      "Running on local URL:  http://127.0.0.1:7890\n",
      "\n",
      "To create a public link, set `share=True` in `launch()`.\n"
     ]
    },
    {
     "data": {
      "text/html": [
       "<div><iframe src=\"http://127.0.0.1:7890/\" width=\"100%\" height=\"500\" allow=\"autoplay; camera; microphone; clipboard-read; clipboard-write;\" frameborder=\"0\" allowfullscreen></iframe></div>"
      ],
      "text/plain": [
       "<IPython.core.display.HTML object>"
      ]
     },
     "metadata": {},
     "output_type": "display_data"
    },
    {
     "data": {
      "text/plain": []
     },
     "execution_count": 43,
     "metadata": {},
     "output_type": "execute_result"
    }
   ],
   "source": [
    "def random_response(a):\n",
    "    return random.choice(['Yes', 'No'])\n",
    "\n",
    "demo = gr.Interface(\n",
    "    random_response,\n",
    "    inputs=['text'],\n",
    "    outputs=['text']\n",
    ")\n",
    "\n",
    "demo.launch()"
   ]
  },
  {
   "cell_type": "code",
   "execution_count": 50,
   "id": "cae42157",
   "metadata": {},
   "outputs": [
    {
     "name": "stdout",
     "output_type": "stream",
     "text": [
      "Running on local URL:  http://127.0.0.1:7896\n",
      "\n",
      "To create a public link, set `share=True` in `launch()`.\n"
     ]
    },
    {
     "data": {
      "text/html": [
       "<div><iframe src=\"http://127.0.0.1:7896/\" width=\"100%\" height=\"500\" allow=\"autoplay; camera; microphone; clipboard-read; clipboard-write;\" frameborder=\"0\" allowfullscreen></iframe></div>"
      ],
      "text/plain": [
       "<IPython.core.display.HTML object>"
      ]
     },
     "metadata": {},
     "output_type": "display_data"
    },
    {
     "data": {
      "text/plain": []
     },
     "execution_count": 50,
     "metadata": {},
     "output_type": "execute_result"
    }
   ],
   "source": [
    "def greet(name):\n",
    "    greeting = f'Hello {name} !'\n",
    "    \n",
    "    return greeting\n",
    "\n",
    "demo=gr.Interface(\n",
    "    greet,\n",
    "    inputs=['text'],\n",
    "    outputs=['text']\n",
    ")\n",
    "\n",
    "demo.launch()"
   ]
  },
  {
   "cell_type": "code",
   "execution_count": 53,
   "id": "8e5ffbcf",
   "metadata": {},
   "outputs": [
    {
     "name": "stdout",
     "output_type": "stream",
     "text": [
      "Running on local URL:  http://127.0.0.1:7898\n",
      "\n",
      "To create a public link, set `share=True` in `launch()`.\n"
     ]
    },
    {
     "data": {
      "text/html": [
       "<div><iframe src=\"http://127.0.0.1:7898/\" width=\"100%\" height=\"500\" allow=\"autoplay; camera; microphone; clipboard-read; clipboard-write;\" frameborder=\"0\" allowfullscreen></iframe></div>"
      ],
      "text/plain": [
       "<IPython.core.display.HTML object>"
      ]
     },
     "metadata": {},
     "output_type": "display_data"
    },
    {
     "data": {
      "text/plain": []
     },
     "execution_count": 53,
     "metadata": {},
     "output_type": "execute_result"
    }
   ],
   "source": [
    "def greet(name):\n",
    "    return 'Hello ' + name + '!'\n",
    "\n",
    "with gr.Blocks() as demo:\n",
    "    name = gr.Textbox(label = 'Name')\n",
    "    output = gr.Textbox(label = 'Output box')\n",
    "    greet_button = gr.Button('Greet')\n",
    "    greet_button.click(fn = greet, inputs = name, outputs = output)\n",
    "\n",
    "demo.launch()"
   ]
  },
  {
   "cell_type": "code",
   "execution_count": null,
   "id": "6ac43c43",
   "metadata": {},
   "outputs": [],
   "source": []
  }
 ],
 "metadata": {
  "kernelspec": {
   "display_name": "Python 3 (ipykernel)",
   "language": "python",
   "name": "python3"
  },
  "language_info": {
   "codemirror_mode": {
    "name": "ipython",
    "version": 3
   },
   "file_extension": ".py",
   "mimetype": "text/x-python",
   "name": "python",
   "nbconvert_exporter": "python",
   "pygments_lexer": "ipython3",
   "version": "3.9.12"
  }
 },
 "nbformat": 4,
 "nbformat_minor": 5
}
